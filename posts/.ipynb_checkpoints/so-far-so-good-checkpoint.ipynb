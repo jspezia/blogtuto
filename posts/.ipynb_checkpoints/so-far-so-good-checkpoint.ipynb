{
 "metadata": {
  "name": "",
  "signature": "sha256:1b33a09a78c8b8ffab3416107ddd7c563c69de9745d7c6752ec3cfc446847cfe"
 },
 "nbformat": 3,
 "nbformat_minor": 0,
 "worksheets": [
  {
   "cells": [
    {
     "cell_type": "markdown",
     "metadata": {},
     "source": [
      "Hello everyone,\n",
      "===============\n",
      "\n",
      "\n",
      "I'm not very familiar with github.io, nikola and notebook so there will be several changes in the future...\n",
      "\n",
      "I hope this tutorial will be as simple as possible and feel free to tell me how I can improve it."
     ]
    },
    {
     "cell_type": "heading",
     "level": 2,
     "metadata": {},
     "source": [
      "Prerequisites"
     ]
    },
    {
     "cell_type": "markdown",
     "metadata": {},
     "source": [
      "I started to list everything you would need but I have not managed to find a starting point (should I start with how to install pip or should I tell you where to buy your computer?).\n",
      "Other people have made excellent tutorials (I will make the links in the last chapter) so I'll assume that you already have some knowledge:\n",
      "\n",
      " * need a [github account](http://github.com) of course \n",
      " * install [nikola](http://getnikola.com)\n",
      " * install [ipython notebook](http://ipython.org/install.html)"
     ]
    },
    {
     "cell_type": "heading",
     "level": 2,
     "metadata": {},
     "source": [
      "Table of Contents"
     ]
    },
    {
     "cell_type": "markdown",
     "metadata": {},
     "source": [
      "[How to create a website github.io](#How-to-create-a-website-github.io)\n",
      "\n",
      "* [Why divide the working directory on github](#Why-divide-the-working-directory-on-github)\n",
      "* [Initialize nikola](#Initialize-nikola)\n",
      "* [Magic gh-pages](#Magic-gh-pages)\n",
      "\n",
      "[What about nikola](#What-about-nikola-and-notebook)\n",
      "\n",
      "* [conf.py](#conf.py)\n",
      "* [deploy.sh](#deploy.sh)\n",
      "* [nikola auto](#nikola-auto)\n",
      "\n",
      "[Useful tools and tutorials](#Useful-tools-and-tutorials)\n",
      "\n",
      "* [Github](#Github)\n",
      "* [nikola](#nikola)\n",
      "* [notebook](#notebook)"
     ]
    },
    {
     "cell_type": "heading",
     "level": 2,
     "metadata": {},
     "source": [
      "How to create a website github.io"
     ]
    },
    {
     "cell_type": "heading",
     "level": 3,
     "metadata": {},
     "source": [
      "Why divide the working directory on github"
     ]
    },
    {
     "cell_type": "markdown",
     "metadata": {},
     "source": [
      "Github.io'sBlog is the frontage of your working directory. If you share your work, people who download your github repository will also download your site folder. It is not necessary and may significantly increase the time to download.\n",
      "\n",
      "The next command allows you to download a single branch:"
     ]
    },
    {
     "cell_type": "code",
     "collapsed": false,
     "input": [
      "git clone -b <name of branche> --single-branch <repository>"
     ],
     "language": "python",
     "metadata": {},
     "outputs": []
    },
    {
     "cell_type": "markdown",
     "metadata": {},
     "source": [
      "Clone a new repository (add a .gitignore for python) or go to an existing repository and create a new branch:"
     ]
    },
    {
     "cell_type": "code",
     "collapsed": false,
     "input": [
      "git branch <site_branch>"
     ],
     "language": "python",
     "metadata": {},
     "outputs": []
    },
    {
     "cell_type": "markdown",
     "metadata": {},
     "source": [
      "Go to this new branch:"
     ]
    },
    {
     "cell_type": "code",
     "collapsed": false,
     "input": [
      "git checkout <site_branch>"
     ],
     "language": "python",
     "metadata": {},
     "outputs": []
    },
    {
     "cell_type": "markdown",
     "metadata": {},
     "source": [
      "and clean this branch:"
     ]
    },
    {
     "cell_type": "code",
     "collapsed": false,
     "input": [
      "rm -rf *\n",
      "git rm -r ."
     ],
     "language": "python",
     "metadata": {},
     "outputs": []
    },
    {
     "cell_type": "heading",
     "level": 3,
     "metadata": {},
     "source": [
      "Initialize nikola"
     ]
    },
    {
     "cell_type": "markdown",
     "metadata": {},
     "source": [
      "I advise you to install nikola with the demo (you can see the demo [here](welcome-to-nikola.html))"
     ]
    },
    {
     "cell_type": "code",
     "collapsed": false,
     "input": [
      "nikola init --demo mysite"
     ],
     "language": "python",
     "metadata": {},
     "outputs": []
    },
    {
     "cell_type": "markdown",
     "metadata": {},
     "source": [
      "Don't worry, you can change your answers later in the file conf.py.\n",
      "\n",
      "Pull the contents of the folder \"mysite\" in the root of the current branch:"
     ]
    },
    {
     "cell_type": "code",
     "collapsed": false,
     "input": [
      "mv mysite/* ./\n",
      "rm -rf mysite"
     ],
     "language": "python",
     "metadata": {},
     "outputs": []
    },
    {
     "cell_type": "markdown",
     "metadata": {},
     "source": [
      "You can choose the theme of your site using the command:"
     ]
    },
    {
     "cell_type": "code",
     "collapsed": false,
     "input": [
      "nikola install_theme -l\n",
      "nikola install_theme <name of theme>"
     ],
     "language": "python",
     "metadata": {},
     "outputs": []
    },
    {
     "cell_type": "markdown",
     "metadata": {},
     "source": [
      "(You can look the different appearances [here](http://themes.getnikola.com/))\n",
      "\n",
      "Finish by saving your work:"
     ]
    },
    {
     "cell_type": "code",
     "collapsed": false,
     "input": [
      "git add *\n",
      "git commit -m \"init site\"\n",
      "git push origin <site_branch>"
     ],
     "language": "python",
     "metadata": {},
     "outputs": []
    },
    {
     "cell_type": "heading",
     "level": 3,
     "metadata": {},
     "source": [
      "Magic gh-pages"
     ]
    },
    {
     "cell_type": "markdown",
     "metadata": {},
     "source": [
      "Here I'll start to say some \"lead to no good\" but the principle is simple to understand and also the method (basic but long)... So:\n",
      "\n",
      "Github has a \"ghost\" branch -> gh-pages. In gh-pages are stored the future web pages of your site username.github.io/name_of_repository. \n",
      "\n",
      "\n",
      "Go on your branch \"site\" and run:"
     ]
    },
    {
     "cell_type": "code",
     "collapsed": false,
     "input": [
      "nikola build"
     ],
     "language": "python",
     "metadata": {},
     "outputs": []
    },
    {
     "cell_type": "markdown",
     "metadata": {},
     "source": [
      "nikola will build web pages in the output file.\n",
      "\n",
      "To check that the site is functional, made:"
     ]
    },
    {
     "cell_type": "code",
     "collapsed": false,
     "input": [
      "nikola serve"
     ],
     "language": "python",
     "metadata": {},
     "outputs": []
    },
    {
     "cell_type": "markdown",
     "metadata": {},
     "source": [
      "and go to your browser on port 0.0.0.0:8000 to see the result in local."
     ]
    },
    {
     "cell_type": "markdown",
     "metadata": {},
     "source": [
      "Now the silly trick:\n",
      "\n",
      "you need to put the contents of output in gh-pages.\n"
     ]
    },
    {
     "cell_type": "code",
     "collapsed": false,
     "input": [
      "mv output ~/"
     ],
     "language": "python",
     "metadata": {},
     "outputs": []
    },
    {
     "cell_type": "markdown",
     "metadata": {},
     "source": [
      "Clean the current branch and go to the branch gh-pages:"
     ]
    },
    {
     "cell_type": "code",
     "collapsed": false,
     "input": [
      "nikola clean\n",
      "git branch gh-pages\n",
      "git checkout gh-pages"
     ],
     "language": "python",
     "metadata": {},
     "outputs": []
    },
    {
     "cell_type": "markdown",
     "metadata": {},
     "source": [
      "We need only the content of output:"
     ]
    },
    {
     "cell_type": "code",
     "collapsed": false,
     "input": [
      "rm -rf *\n",
      "git rm -r .\n",
      "mv ~/output/* ./\n",
      "rm -rf ~/output"
     ],
     "language": "python",
     "metadata": {},
     "outputs": []
    },
    {
     "cell_type": "markdown",
     "metadata": {},
     "source": [
      "Save gh-pages and go back on branch \"site\":"
     ]
    },
    {
     "cell_type": "code",
     "collapsed": false,
     "input": [
      "git add *\n",
      "git commit -m 'init gh-pages'\n",
      "git push origin gh-pages\n",
      "git checkout <site_branch>\n",
      "git branch -D gh-pages"
     ],
     "language": "python",
     "metadata": {},
     "outputs": []
    },
    {
     "cell_type": "markdown",
     "metadata": {},
     "source": [
      "It takes about 10 minutes to boot on \"username\"github.io/\"repository_name\"."
     ]
    },
    {
     "cell_type": "markdown",
     "metadata": {},
     "source": [
      "I know that my solution is gross but she's safe.\n",
      "\n",
      "I had bad surprises with \"subtree\" and other addons, but maybe you will succeed in making better use than me..."
     ]
    },
    {
     "cell_type": "heading",
     "level": 2,
     "metadata": {},
     "source": [
      "What about nikola and notebook"
     ]
    },
    {
     "cell_type": "heading",
     "level": 3,
     "metadata": {},
     "source": [
      "conf.py"
     ]
    },
    {
     "cell_type": "markdown",
     "metadata": {},
     "source": [
      "You must change your conf.py that notebook is compatible with nikola.\n",
      "\n",
      "Add this two lines in POSTS = ( )"
     ]
    },
    {
     "cell_type": "code",
     "collapsed": false,
     "input": [
      "(\"posts/*ipynb\", \"posts\", \"post.tmpl\"),\n",
      "(\"posts/*html\", \"posts\", \"post.tmpl\"),"
     ],
     "language": "python",
     "metadata": {},
     "outputs": []
    },
    {
     "cell_type": "markdown",
     "metadata": {},
     "source": [
      "and this two lines in PAGES = ( )"
     ]
    },
    {
     "cell_type": "code",
     "collapsed": false,
     "input": [
      "(\"stories/*ipynb\", \"stories\", \"story.tmpl\"),\n",
      "(\"stories/*md\", \"stories\", \"story.tmpl\"),"
     ],
     "language": "python",
     "metadata": {},
     "outputs": []
    },
    {
     "cell_type": "markdown",
     "metadata": {},
     "source": [
      "You need to specify to nikola what type of post you want to generate (ipnb rst etc) :"
     ]
    },
    {
     "cell_type": "code",
     "collapsed": false,
     "input": [
      "nikola new_post -f <ARG>"
     ],
     "language": "python",
     "metadata": {},
     "outputs": []
    },
    {
     "cell_type": "heading",
     "level": 3,
     "metadata": {},
     "source": [
      "deploy.sh"
     ]
    },
    {
     "cell_type": "markdown",
     "metadata": {},
     "source": [
      "You can automate the deployment of your gh-pages putting in conf.py"
     ]
    },
    {
     "cell_type": "code",
     "collapsed": false,
     "input": [
      "DEPLOY_COMMAND = [\"./deploy.sh\",\n",
      "                    \"git add .\",\n",
      "                    \"git commit -m 'Update'\",\n",
      "                    \"git push origin <site_branch>\"]"
     ],
     "language": "python",
     "metadata": {},
     "outputs": []
    },
    {
     "cell_type": "markdown",
     "metadata": {},
     "source": [
      "and in your deploy.sh:"
     ]
    },
    {
     "cell_type": "code",
     "collapsed": false,
     "input": [
      "#! /bin/sh\n",
      "\n",
      "mv output ~\n",
      "git checkout gh-pages\n",
      "rm -rf *\n",
      "git rm -r .\n",
      "mv ~/output/* ./\n",
      "rm -rf ~/output\n",
      "git add *\n",
      "git commit -m 'Update'\n",
      "git push origin gh-pages\n",
      "git checkout <site_branch>\n",
      "git branch -d gh-pages"
     ],
     "language": "python",
     "metadata": {},
     "outputs": []
    },
    {
     "cell_type": "markdown",
     "metadata": {},
     "source": [
      "Here if you only want to deploy your site, launch:"
     ]
    },
    {
     "cell_type": "code",
     "collapsed": false,
     "input": [
      "./deploy.sh"
     ],
     "language": "python",
     "metadata": {},
     "outputs": []
    },
    {
     "cell_type": "markdown",
     "metadata": {},
     "source": [
      "If you want to back up everything and push:"
     ]
    },
    {
     "cell_type": "code",
     "collapsed": false,
     "input": [
      "nikola deploy"
     ],
     "language": "python",
     "metadata": {},
     "outputs": []
    },
    {
     "cell_type": "heading",
     "level": 3,
     "metadata": {},
     "source": [
      "nikola auto"
     ]
    },
    {
     "cell_type": "markdown",
     "metadata": {},
     "source": [
      "You need [livereload](https://pypi.python.org/pypi/livereload).\n",
      "Open a notebook:"
     ]
    },
    {
     "cell_type": "code",
     "collapsed": false,
     "input": [
      "ipython notebook"
     ],
     "language": "python",
     "metadata": {},
     "outputs": []
    },
    {
     "cell_type": "markdown",
     "metadata": {},
     "source": [
      "And just launch:"
     ]
    },
    {
     "cell_type": "code",
     "collapsed": false,
     "input": [
      "nikola auto"
     ],
     "language": "python",
     "metadata": {},
     "outputs": []
    },
    {
     "cell_type": "markdown",
     "metadata": {},
     "source": [
      "And go to your browser on port 127.0.0.1:8000 to see the result in local.\n",
      "You can see in real time the changes on your site"
     ]
    },
    {
     "cell_type": "heading",
     "level": 2,
     "metadata": {},
     "source": [
      "Useful tools and tutorials"
     ]
    },
    {
     "cell_type": "heading",
     "level": 3,
     "metadata": {},
     "source": [
      "Github"
     ]
    },
    {
     "cell_type": "markdown",
     "metadata": {},
     "source": [
      "* [tutorial](http://git-scm.com/doc)"
     ]
    },
    {
     "cell_type": "heading",
     "level": 3,
     "metadata": {},
     "source": [
      "nikola"
     ]
    },
    {
     "cell_type": "markdown",
     "metadata": {},
     "source": [
      "* [tutorial](http://getnikola.com/documentation.html)\n",
      "* [nikola, one kickass site generator](http://areskibelaid.com/nikola-one-kickass-site-generator/)\n",
      "* [Deploy your nikola-powered content from the IPython notebook](http://www.damian.oquanta.info/posts/deploy-your-nikola-powered-blog-content-from-the-ipython-notebook.html)\n",
      "* [IPython plugin for Nikola updated](http://www.damian.oquanta.info/posts/ipython-plugin-for-nikola-updated.html)\n",
      "* [Blogging with Nikola + Ipython + Git(Hub)](http://brunettoziosi.eu/posts/blogging-with-nikola-ipython-github.html)"
     ]
    },
    {
     "cell_type": "heading",
     "level": 3,
     "metadata": {},
     "source": [
      "notebook"
     ]
    },
    {
     "cell_type": "markdown",
     "metadata": {},
     "source": [
      "* [tutorial](http://ipython.org/ipython-doc/stable/index.html)"
     ]
    }
   ],
   "metadata": {}
  }
 ]
}